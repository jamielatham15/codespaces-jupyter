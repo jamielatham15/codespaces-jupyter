{
 "cells": [
  {
   "cell_type": "markdown",
   "metadata": {},
   "source": [
    "# SQL Challenge \n",
    "Description:\n",
    "- You have data about an e-commerce site\n",
    "- The 'order_details' table contains details about the order such as purchased items, amounts, and price.\n",
    "Run the queries below to see a sample of each dataset\n",
    "\n",
    "## Identifying Frequently Purchased Sub-Category \n",
    "\n",
    "##### Write a query to find pairs of sub-categories that are frequently bought together in the same order. For each pair, provide the sub-categories and the number of times they were purchased together. Ensure the pairs are unique (i.e., \"A-B\" is considered the same as \"B-A\")."
   ]
  },
  {
   "cell_type": "code",
   "execution_count": null,
   "metadata": {},
   "outputs": [],
   "source": [
    "import sqlite3\n",
    "import pandas as pd"
   ]
  },
  {
   "cell_type": "code",
   "execution_count": null,
   "metadata": {},
   "outputs": [],
   "source": [
    "query = '''\n",
    "SELECT * from order_details LIMIT 10\n",
    "'''\n"
   ]
  },
  {
   "cell_type": "code",
   "execution_count": null,
   "metadata": {},
   "outputs": [],
   "source": [
    "with sqlite3.connect('data/mydatabase.db') as conn:\n",
    "    df = pd.read_sql_query(query, conn)\n",
    "\n",
    "df"
   ]
  }
 ],
 "metadata": {
  "kernelspec": {
   "display_name": "Python 3",
   "language": "python",
   "name": "python3"
  },
  "language_info": {
   "codemirror_mode": {
    "name": "ipython",
    "version": 3
   },
   "file_extension": ".py",
   "mimetype": "text/x-python",
   "name": "python",
   "nbconvert_exporter": "python",
   "pygments_lexer": "ipython3",
   "version": "3.11.9"
  }
 },
 "nbformat": 4,
 "nbformat_minor": 2
}
