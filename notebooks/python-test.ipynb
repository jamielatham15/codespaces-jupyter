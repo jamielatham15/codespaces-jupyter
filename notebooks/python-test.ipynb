{
 "cells": [
  {
   "cell_type": "markdown",
   "metadata": {},
   "source": [
    "# Python Challenge \n",
    "\n",
    "## Question: Analyzing Monthly Sales Trends\n",
    "\n",
    "### Background:\n",
    "You have been provided with two CSV files: `orders.csv` containing order information and `order_details.csv` containing details of each order. The `orders.csv` file includes columns order_id and order_date, while `order_details.csv` includes order_id, amount, and category. Your task is to analyze monthly sales trends for the \"Electronics\" category.\n",
    "\n",
    "### Tasks:\n",
    "- Load the data from `orders.csv` and `order_details.csv` into pandas DataFrames.\n",
    "- Convert the order_date column to datetime format and set it as the index of both DataFrames.\n",
    "- Subset the data to include only orders and order details related to the \"Electronics\" category.\n",
    "- Aggregate the monthly total sales (amount) for the \"Electronics\" category.\n",
    "- Plot a line graph to visualize the monthly sales trends for the \"Electronics\" category.\n",
    "\n",
    "### Expected Output:\n",
    "A line plot showing the monthly total sales trends for the \"Electronics\" category."
   ]
  },
  {
   "cell_type": "code",
   "execution_count": null,
   "metadata": {},
   "outputs": [],
   "source": [
    "import pandas as pd\n",
    "import matplotlib.pyplot as plt\n",
    "\n",
    "plt.style.use('ggplot')"
   ]
  },
  {
   "cell_type": "code",
   "execution_count": null,
   "metadata": {},
   "outputs": [],
   "source": [
    "order_details = pd.read_csv('data/order_details_clean.csv')\n",
    "orders = pd.read_csv('data/orders_clean.csv')"
   ]
  },
  {
   "cell_type": "code",
   "execution_count": null,
   "metadata": {},
   "outputs": [],
   "source": [
    "order_details.dtypes"
   ]
  },
  {
   "cell_type": "code",
   "execution_count": null,
   "metadata": {},
   "outputs": [],
   "source": [
    "orders.dtypes"
   ]
  },
  {
   "cell_type": "code",
   "execution_count": null,
   "metadata": {},
   "outputs": [],
   "source": [
    "orders.head()"
   ]
  },
  {
   "cell_type": "code",
   "execution_count": null,
   "metadata": {},
   "outputs": [],
   "source": [
    "order_details.head()"
   ]
  },
  {
   "cell_type": "code",
   "execution_count": null,
   "metadata": {},
   "outputs": [],
   "source": [
    "# Convert order_date to datetime format and set as index\n",
    "orders['order_date'] = pd.to_datetime(orders['order_date'], format='%Y-%m-%d')\n",
    "\n",
    "# Join the two dataframes and set the index\n",
    "electronics_orders = orders.merge(order_details, how='inner', on='order_id')\n",
    "electronics_orders.set_index('order_date', inplace=True)\n",
    "\n",
    "# Subset data for Electronics category\n",
    "electronics_orders = electronics_orders[electronics_orders['category'] == 'Electronics']\n",
    "\n"
   ]
  },
  {
   "cell_type": "code",
   "execution_count": null,
   "metadata": {},
   "outputs": [],
   "source": [
    "# Aggregate monthly sales\n",
    "monthly_sales = electronics_orders.resample('M')['amount'].sum()"
   ]
  },
  {
   "cell_type": "code",
   "execution_count": null,
   "metadata": {},
   "outputs": [],
   "source": [
    "# Plotting\n",
    "plt.figure(figsize=(10, 6))\n",
    "monthly_sales.plot(marker='o', linestyle='-', color='b', linewidth=2)\n",
    "plt.title('Monthly Sales Trends for Electronics Category')\n",
    "plt.xlabel('Month')\n",
    "plt.ylabel('Total Sales Amount')\n",
    "plt.grid(True)\n",
    "plt.xticks(rotation=45)\n",
    "plt.tight_layout()\n",
    "plt.show()"
   ]
  },
  {
   "cell_type": "markdown",
   "metadata": {},
   "source": [
    "## Explanation:\n",
    "- Step 1: Both orders.csv and order_details.csv are loaded into pandas DataFrames.\n",
    "- Step 2: The order_date column in both DataFrames is converted to datetime format.\n",
    "- Step 3: The DataFrames are merged on the order_id column.\n",
    "- Step 4: Data is subsetted to include only orders and order details related to the \"Electronics\" category.\n",
    "- Step 5: The order_date column is set as the index, and the monthly total sales for the \"Electronics\" category are aggregated using resample('M').\n",
    "- Step 6: The plot is created using pandas' built-in plotting functionality, which simplifies the process.\n",
    "## Notes:\n",
    "This solution uses pandas' built-in plotting capabilities to create the plot directly, simplifying the process and keeping everything within pandas.\n",
    "Ensure the candidate understands how to merge DataFrames, subset data, perform time series resampling, and use pandas for plotting."
   ]
  },
  {
   "cell_type": "markdown",
   "metadata": {},
   "source": []
  }
 ],
 "metadata": {
  "kernelspec": {
   "display_name": "Python 3",
   "language": "python",
   "name": "python3"
  },
  "language_info": {
   "codemirror_mode": {
    "name": "ipython",
    "version": 3
   },
   "file_extension": ".py",
   "mimetype": "text/x-python",
   "name": "python",
   "nbconvert_exporter": "python",
   "pygments_lexer": "ipython3",
   "version": "3.10.13"
  }
 },
 "nbformat": 4,
 "nbformat_minor": 2
}
