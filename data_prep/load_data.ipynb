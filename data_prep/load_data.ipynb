{
 "cells": [
  {
   "cell_type": "markdown",
   "metadata": {},
   "source": [
    "## https://www.kaggle.com/datasets/benroshan/ecommerce-data?select=Sales+target.csv"
   ]
  },
  {
   "cell_type": "code",
   "execution_count": 7,
   "metadata": {},
   "outputs": [],
   "source": [
    "import pandas as pd\n",
    "import sqlalchemy\n",
    "from sqlalchemy import Date, String, Integer"
   ]
  },
  {
   "cell_type": "code",
   "execution_count": 8,
   "metadata": {},
   "outputs": [],
   "source": [
    "\n",
    "# Define the database connection URL\n",
    "db_url = 'sqlite:///../notebooks/data/mydatabase.db'\n",
    "\n",
    "# Create the database engine\n",
    "engine = sqlalchemy.create_engine(db_url)"
   ]
  },
  {
   "cell_type": "code",
   "execution_count": 9,
   "metadata": {},
   "outputs": [
    {
     "data": {
      "text/plain": [
       "560"
      ]
     },
     "execution_count": 9,
     "metadata": {},
     "output_type": "execute_result"
    }
   ],
   "source": [
    "orders = pd.read_csv('List of Orders.csv')\n",
    "orders['order_date'] = pd.to_datetime(orders['order_date'], format='%d-%m-%Y')\n",
    "orders['month'] = orders['order_date'].dt.month\n",
    "orders['year'] = orders['order_date'].dt.year\n",
    "orders.to_csv('orders_clean.csv', index=False)\n",
    "orders.to_sql('orders', engine, if_exists='replace', index=False, dtype={'order_id': String,'order_date': Date,'customer_name': String,'state': String,'city': String})"
   ]
  },
  {
   "cell_type": "code",
   "execution_count": 10,
   "metadata": {},
   "outputs": [
    {
     "data": {
      "text/plain": [
       "1500"
      ]
     },
     "execution_count": 10,
     "metadata": {},
     "output_type": "execute_result"
    }
   ],
   "source": [
    "order_details = pd.read_csv('Order Details.csv')\n",
    "order_details.to_csv('order_details_clean.csv', index=False)\n",
    "order_details.to_sql('order_details', engine, if_exists='replace', index=False)\n"
   ]
  },
  {
   "cell_type": "code",
   "execution_count": 11,
   "metadata": {},
   "outputs": [
    {
     "data": {
      "text/plain": [
       "36"
      ]
     },
     "execution_count": 11,
     "metadata": {},
     "output_type": "execute_result"
    }
   ],
   "source": [
    "sales = pd.read_csv('Sales target.csv')\n",
    "sales['month_of_order'] = pd.to_datetime('01-' + sales['month_of_order'], format='%d-%b-%y')\n",
    "sales['month'] = sales['month_of_order'].dt.month\n",
    "sales['year'] = sales['month_of_order'].dt.year\n",
    "sales.to_csv('sales_clean.csv', index=False)\n",
    "sales.to_sql('sales_target', engine, if_exists='replace', index=False, dtype={'month_of_order':Date,'category':String,'target':Integer})"
   ]
  },
  {
   "cell_type": "code",
   "execution_count": null,
   "metadata": {},
   "outputs": [],
   "source": []
  }
 ],
 "metadata": {
  "kernelspec": {
   "display_name": "Python 3",
   "language": "python",
   "name": "python3"
  },
  "language_info": {
   "codemirror_mode": {
    "name": "ipython",
    "version": 3
   },
   "file_extension": ".py",
   "mimetype": "text/x-python",
   "name": "python",
   "nbconvert_exporter": "python",
   "pygments_lexer": "ipython3",
   "version": "3.11.9"
  }
 },
 "nbformat": 4,
 "nbformat_minor": 2
}
